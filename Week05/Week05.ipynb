{
 "cells": [
  {
   "cell_type": "markdown",
   "id": "13e9eac7",
   "metadata": {},
   "source": [
    "## 함수\n",
    "\n",
    "하나의 이름 아래 여러 줄의 코드를 묶어두고, 필요할 때마다 호출하여 사용할 수 있도록 만든 코드의 집합입니다.\n",
    "- 함수는 입력값(매개변수, 인자)을 받아서, 특정 작업을 수행한 뒤, 결과값(리턴값)을 반환할 수 있습니다\n",
    "- 대표적인 예로, `print()` 함수도 미리 정의된 파이썬 내장 함수 중 하나입니다.\n",
    "\n",
    "### 함수를 사용하는 이유\n",
    "\n",
    "- **코드의 중복을 줄이고, 재사용성을 높이기 위해** 사용합니다.\n",
    "- 복잡한 작업을 작은 단위로 나누어, 프로그램의 구조를 명확하게 만들 수 있습니다.\n",
    "- 유지보수와 확장성이 좋아집니다."
   ]
  },
  {
   "cell_type": "markdown",
   "id": "3434d870",
   "metadata": {},
   "source": [
    "### 사용자 정의 함수와 내장 함수\n",
    "\n",
    "\n",
    "#### 내장 함수 (Built-in Functions)\n",
    "\n",
    "- **정의**: 파이썬이 기본적으로 제공하는 함수로, 별도의 import 없이 언제든 사용할 수 있습니다.\n",
    "- **특징**:\n",
    "  - 자주 쓰이는 기능(수치 연산, 자료형 변환, 시퀀스 처리, 입출력 등)을 빠르게 사용 가능\n",
    "  - 표준 라이브러리에 포함되어 있음\n",
    "- **종류와 사용법**:  \n",
    "  아래는 자주 사용되는 내장 함수와 그 사용법입니다.\n",
    "\n",
    "\n",
    "#### 주요 내장 함수와 예시\n",
    "\n",
    "| 함수명       | 설명                                            | 사용 예시                        |\n",
    "|--------------|-------------------------------------------------|----------------------------------|\n",
    "| abs(x)       | x의 절댓값 반환                                 | `abs(-5)` → 5                   |\n",
    "| all(iterable)| 모든 요소가 참이면 True, 아니면 False           | `all([True, 1, 3])` → True      |\n",
    "| any(iterable)| 하나라도 참이면 True                            | `any([0, '', 2])` → True        |\n",
    "| len(s)       | 요소의 개수 반환                                | `len([1][2][3])` → 3              |\n",
    "| max(iterable)| 최댓값 반환                                     | `max([1][5][3])` → 5              |\n",
    "| min(iterable)| 최솟값 반환                                     | `min([1][5][3])` → 1              |\n",
    "| sum(iterable)| 합계 반환                                       | `sum([1][2][3])` → 6              |\n",
    "| sorted(iterable)| 정렬된 리스트 반환                           | `sorted([3][1][2])` → [1][2][3]     |\n",
    "| enumerate(iterable)| (인덱스, 값) 쌍 반환                     | `list(enumerate(['a','b']))` → [(0,'a'),(1,'b')] |\n",
    "| id(obj)      | 객체의 고유 주소 반환                           | `id(1)`                         |\n",
    "| type(obj)    | 객체의 타입 반환                                | `type('hi')` →     |\n",
    "| int(x)       | 정수형으로 변환                                 | `int('10')` → 10                |\n",
    "| float(x)     | 실수형으로 변환                                 | `float('3.14')` → 3.14          |\n",
    "| str(x)       | 문자열로 변환                                   | `str(10)` → '10'                |\n",
    "| list(iterable)| 리스트로 변환                                  | `list('hi')` → ['h', 'i']       |\n",
    "| tuple(iterable)| 튜플로 변환                                   | `tuple([1][2])` → (1,2)          |\n",
    "| dict()       | 딕셔너리 생성                                   | `dict(a=1, b=2)` → {'a':1,'b':2}|\n",
    "| set(iterable)| 집합으로 변환                                   | `set([1][2][2])` → {1,2}          |\n",
    "| input()      | 사용자 입력 받기                                | `input(\"입력: \")`                |\n",
    "| print()      | 화면에 출력                                     | `print(\"Hello\")`                |\n",
    "| chr(i)       | 아스키/유니코드 정수 → 문자                    | `chr(65)` → 'A'                 |\n",
    "| ord(c)       | 문자 → 아스키/유니코드 정수                    | `ord('A')` → 65                 |\n",
    "| zip(a, b, ...)| 여러 시퀀스를 묶어 튜플의 리스트로 반환        | `list(zip([1][2],[3,[4]))` → [(1,3),(2,4)] |"
   ]
  },
  {
   "cell_type": "markdown",
   "id": "10c51934",
   "metadata": {},
   "source": [
    "#### 사용자 정의 함수\n",
    "\n",
    "- **정의**: 사용자가 직접 필요에 따라 만드는 함수입니다.  \n",
    "- **작성 방법**: `def` 키워드로 정의하며, 원하는 이름과 매개변수를 지정할 수 있습니다.\n",
    "- **구조**:\n",
    "  ```python\n",
    "  def 함수명(매개변수1, 매개변수2, ...):\n",
    "      실행할 코드\n",
    "      [return 반환값]\n",
    "  ```\n",
    "- **특징**:\n",
    "  - 코드의 재사용성과 가독성을 높여줍니다.\n",
    "  - 반복되는 작업을 함수로 묶어 관리할 수 있습니다.\n",
    "  - 매개변수(Parameter): 함수에 입력으로 전달된 값을 받는 변수\n",
    "  - 인자(Argument): 함수를 호출할 때 전달하는 실제 값\n"
   ]
  },
  {
   "cell_type": "code",
   "execution_count": null,
   "id": "9c1e9784",
   "metadata": {},
   "outputs": [],
   "source": [
    "# 더하기 함수\n",
    "def myDefineSum(x,y):\n",
    "    Acc = x + y\n",
    "    return Acc\n",
    "\n",
    "print(myDefineSum(1,4))                 # 5\n",
    "print(myDefineSum(\"수원외고 \",\"최고\"))   # 수원외고 최고"
   ]
  },
  {
   "cell_type": "code",
   "execution_count": null,
   "id": "a84c2ec8",
   "metadata": {},
   "outputs": [],
   "source": [
    "# 곱하기 함수를 구현해보세요\n",
    "\n",
    "\n",
    "print(myDefineMul(4,8))                  # 32\n",
    "print(myDefineMul(\"수원외고 최고 \", 3))   # 수원외고 최고"
   ]
  },
  {
   "cell_type": "markdown",
   "id": "442971e7",
   "metadata": {},
   "source": [
    "### 함수의 입력값과 반환값\n",
    "\n",
    "- 함수는 입력값(인자)이 있을 수도, 없을 수도 있습니다.\n",
    "- 함수는 반환값이 있을 수도, 없을 수도 있습니다.\n",
    "- 입력값과 반환값의 유무에 따라 함수는 4가지 형태로 나뉩니다:\n",
    "  1. 입력값 O, 반환값 O\n",
    "  2. 입력값 O, 반환값 X\n",
    "  3. 입력값 X, 반환값 O\n",
    "  4. 입력값 X, 반환값 X\n",
    "\n",
    "\n",
    "#### 매개변수와 인자\n",
    "\n",
    "- **매개변수(Parameter)**: 함수를 정의할 때 괄호 안에 적는 변수명\n",
    "- **인자(Argument)**: 함수를 호출할 때 전달하는 실제 값\n",
    "- 함수 호출 시, 인자의 순서와 개수를 맞추는 것이 중요합니다.\n",
    "\n",
    "\n",
    "  ```python\n",
    "  # 함수 정의\n",
    "  def 함수명(매개변수1, 매개변수2, ...):\n",
    "      실행할 코드\n",
    "      [return 반환값]\n",
    "\n",
    "  # 함수 호출\n",
    "  함수명(인자1, 인자2)\n",
    "  ```"
   ]
  },
  {
   "cell_type": "code",
   "execution_count": null,
   "id": "75c01f9e",
   "metadata": {},
   "outputs": [],
   "source": [
    "#원의 넓이를 구하는 코드\n",
    "\n",
    "# 1. 입력값 O, 반환값 O\n",
    "def square_area(pi, radius):\n",
    "    return pi * radius * radius\n",
    "\n",
    "# 2. 입력값 O, 반환값 X\n",
    "def print_area(radius, area):\n",
    "    print(\"반지름이 {0:d}인 원의 넓이는 {1:.3f}입니다.\".format(radius,area))\n",
    "\n",
    "# 3. 입력값 X, 반환값 O\n",
    "def get_pi():\n",
    "    return 3.14\n",
    "\n",
    "# 4. 입력값 X, 반환값 X\n",
    "def say_formula():\n",
    "    print(\"원의 반지름을 구하는 공식은 원주율 × 반지름 × 반지름 (πr^2)입니다.\")\n",
    "\n",
    "\n",
    "r = int(input(\"원의 반지름을 입력하세요:\"))\n",
    "pi = get_pi()\n",
    "a = square_area(pi, r)\n",
    "say_formula()\n",
    "print_area(r, a)"
   ]
  },
  {
   "cell_type": "code",
   "execution_count": null,
   "id": "96103d44",
   "metadata": {},
   "outputs": [],
   "source": [
    "# 사각형의 넓이를 구하는 코드\n",
    "\n",
    "#1. 입력값 O, 반환값 O\n",
    "def rectangle_area(width, height):\n",
    "\n",
    "    # 함수 내부를 채우세요\n",
    "\n",
    "# 2. 입력값 O, 반환값 X\n",
    "def print_area(width, height, area):\n",
    "\n",
    "    # 함수 내부를 채우세요\n",
    "    # \"가로가 ???이고고, 세로가 ???인 사각형의 넓이는 ???입니다.\"를 출력하세요\n",
    "\n",
    "# 4. 입력값 X, 반환값 X\n",
    "def say_formula():\n",
    "\n",
    "\n",
    "    # 함수 내부를 채우세요\n",
    "    # \"사각형의 넓이를 구하는 공식은 가로 × 세로 입니다.\"를 출력하세요\n",
    "\n",
    "\n",
    "w = int(input(\"사각형의 가로 길이를 입력하세요: \"))\n",
    "h = int(input(\"사각형의 세로 길이를 입력하세요: \"))\n",
    "a = rectangle_area(w, h)\n",
    "say_formula()\n",
    "print_area(w, h, a)"
   ]
  },
  {
   "cell_type": "markdown",
   "id": "79445165",
   "metadata": {},
   "source": [
    "### 다양한 함수 호출 방법\n",
    "\n",
    "- **위치 인자(Positional Argument)**: 인자의 순서대로 값을 전달\n",
    "- **키워드 인자(Keyword Argument)**: 매개변수명을 명시하여 값을 전달\n",
    "- **디폴트 인자(Default Argument)**: 함수 정의 시 매개변수에 기본값을 지정해 두는 것\n",
    "- **가변 인자(*args)**: 여러 개의 값을 한 번에 전달할 때 사용."
   ]
  },
  {
   "cell_type": "code",
   "execution_count": null,
   "id": "0ccc0497",
   "metadata": {},
   "outputs": [],
   "source": [
    "def introduce(g, a, n, s = \"수원외고\", m = \"영어과\"):  # 반드시 키워드인자가 뒤에 위치해야함\n",
    "    print(f\"나는 {s}에 {m} {g}학년인 {a}살 {n}입니다.\")\n",
    "\n",
    "\n",
    "name, school, major = input(\"이름, 학교, 전공을 입력하세요: \").split()\n",
    "grade, age= map(int, input(\"학년과 나이를 입력하세요: \").split())\n",
    "\n",
    "# 1. 위치 인자(Positional Argument): 순서대로 값을 전달\n",
    "introduce(grade, age, name, school, major)\n",
    "\n",
    "# 2. 키워드 인자(Keyword Argument): 매개변수명을 명시하여 값을 전달\n",
    "introduce(grade, age, m=major, s=school, n=name)\n",
    "\n",
    "# 3. 디폴트 인자(Default Argument): 값을 생략하면 기본값이 사용됨\n",
    "introduce(grade, age, name)"
   ]
  },
  {
   "cell_type": "markdown",
   "id": "fd09f2a3",
   "metadata": {},
   "source": [
    "### 함수의 변수 범위\n",
    "\n",
    "- 함수 내부에서 선언한 변수는 **지역변수**로, 함수 밖에서는 사용할 수 없습니다.\n",
    "- 함수 밖에서 선언한 변수는 **전역변수**로, 함수 내에서 `global` 키워드 없이 변경할 수 없습니다."
   ]
  },
  {
   "cell_type": "code",
   "execution_count": null,
   "id": "fadf60a5",
   "metadata": {},
   "outputs": [],
   "source": [
    "# 예시 코드\n",
    "def changeNum():\n",
    "    global a\n",
    "    a,b = 10,10\n",
    "\n",
    "a,b = 0,0\n",
    "print(f\"함수 호출 전 a:{a}, b:{b}\")\n",
    "changeNum()\n",
    "print(f\"함수 호출 후 a:{a}, b:{b}\")"
   ]
  },
  {
   "cell_type": "code",
   "execution_count": null,
   "id": "b1545a4f",
   "metadata": {},
   "outputs": [],
   "source": [
    "# 위와 동일한 코드 인자를 주고 리턴값를 받는 형식으로 구현하시오\n",
    "\n",
    "# 함수 정의부\n",
    "\n",
    "\n",
    "\n",
    "a,b = 0,0\n",
    "print(f\"함수 호출 전 a:{a}, b:{b}\")\n",
    "\n",
    "# 함수 호출부\n",
    "\n",
    "\n",
    "\n",
    "print(f\"함수 호출 후 a:{a}, b:{b}\")"
   ]
  },
  {
   "cell_type": "markdown",
   "id": "ae824f10",
   "metadata": {},
   "source": [
    "### 실습 문제"
   ]
  },
  {
   "cell_type": "code",
   "execution_count": null,
   "id": "04c73709",
   "metadata": {},
   "outputs": [],
   "source": [
    "# 문제 1. 주어진 숫자가 짝수 인지 홀수인지 판별하는 함수를 만드세요.\n",
    "\n",
    "\n",
    "# 사용 예시\n",
    "print(even_or_odd(4))  # 짝수입니다.\n",
    "print(even_or_odd(7))  # 홀수입니다."
   ]
  },
  {
   "cell_type": "code",
   "execution_count": null,
   "id": "e6194747",
   "metadata": {},
   "outputs": [],
   "source": [
    "# 문제 2. 인자로 숫자와 조건(짝수/홀수)을 주고 이에 따라 해당 조건에 만족하는 값들끼리 곱을 구하는 함수를 만드세요.\n",
    "# 디폴트인자를 사용하여 조건을 입력하지 않을시 짝수로 인식하도록 하세요. 이때 조건은 0이면 짝수. 1이면 홀수입니다.\n",
    "\n",
    "\n",
    "# 사용 예시\n",
    "print(accumulate(5))  # 8\n",
    "print(accumulate(5,1))  # 15"
   ]
  },
  {
   "cell_type": "code",
   "execution_count": null,
   "id": "192133fd",
   "metadata": {},
   "outputs": [],
   "source": [
    "# 문제 3. 재귀함수를 이용하여 팩토리얼을 구하는 함수를 만드세요.\n",
    "\n",
    "\n",
    "# 사용 예시\n",
    "print(factorial(5))  # 120"
   ]
  },
  {
   "cell_type": "markdown",
   "id": "883e82a4",
   "metadata": {},
   "source": [
    "## 이터러블(Iterable) 자료형\n",
    "이터러블이란 \"반복 가능한\" 객체를 의미합니다.\n",
    "즉, 내부에 여러 값을 담고 있고, for문 등 반복문에서 요소를 하나씩 꺼내 쓸 수 있는 자료형입니다"
   ]
  },
  {
   "cell_type": "markdown",
   "id": "4ee5bc7e",
   "metadata": {},
   "source": [
    "### 리스트 (List)\n",
    "\n",
    "- **정의**: 여러 개의 값을 순서대로 저장할 수 있는 자료형.  \n",
    "- **기호**: 대괄호 `[ ]` 사용  \n",
    "- **특징**:\n",
    "  - 순서(인덱스)가 존재하여, 요소의 위치를 지정해 접근 가능\n",
    "  - 요소의 추가, 수정, 삭제가 모두 가능 (mutable)\n",
    "  - 중복된 값 저장 가능  \n",
    "- **예시**:\n",
    "  ```python\n",
    "  fruits = ['apple', 'banana', 'orange']\n",
    "  numbers = [1, 2, 3, 4, 5]\n",
    "  ```\n",
    "- **용도**: 순서가 중요하고, 데이터의 변경이 필요한 경우 사용  "
   ]
  },
  {
   "cell_type": "code",
   "execution_count": null,
   "id": "3b65a621",
   "metadata": {},
   "outputs": [],
   "source": [
    "# 빈 리스트 생성\n",
    "listData = list()   # 방법 1\n",
    "listData = []       # 방법 2\n",
    "\n",
    "# 리스트 생성과 동시에 값 할당\n",
    "# 변수 = [value1,value2,value3,...,valueN]\n",
    "listData = [2,0,2,5,0,5,2,9,1,9,2,0,0]\n",
    "\n",
    "print(listData)\n",
    "listData[3] = 6\n",
    "print(listData)"
   ]
  },
  {
   "cell_type": "markdown",
   "id": "c577d03c",
   "metadata": {},
   "source": [
    "**리스트 메소드 (List methods)**\n",
    "\n",
    "| 메소드      | 설명                                              | 사용 예시                      |\n",
    "|-------------|---------------------------------------------------|-------------------------------|\n",
    "| append()    | 리스트 끝에 요소 추가                              | `a.append(4)`                 |\n",
    "| extend()    | 리스트 끝에 여러 요소(반복가능 객체) 추가           | `a.extend([5,[6])`            |\n",
    "| insert()    | 지정한 위치에 요소 삽입                            | `a.insert(1, 100)`            |\n",
    "| remove()    | 첫 번째로 나오는 해당 값을 삭제                    | `a.remove(2)`                 |\n",
    "| pop()       | 지정한 위치의 요소를 꺼내서 반환하고 삭제           | `a.pop()` 또는 `a.pop(0)`     |\n",
    "| clear()     | 모든 요소 삭제                                     | `a.clear()`                   |\n",
    "| index()     | 첫 번째로 나오는 해당 값의 인덱스 반환              | `a.index(3)`                  |\n",
    "| count()     | 해당 값의 개수 반환                                | `a.count(1)`                  |\n",
    "| sort()      | 리스트 정렬(기본 오름차순)                         | `a.sort()`                    |\n",
    "| reverse()   | 리스트 요소 순서 뒤집기                            | `a.reverse()`                 |\n",
    "| copy()      | 리스트 얕은 복사본 반환                            | `b = a.copy()`                |\n",
    "\n",
    "\n",
    "\n",
    "**리스트 관련 주요 내장 함수 (tuple-related built-in functions)**\n",
    "\n",
    "| 함수        | 설명                                              | 사용 예시                      |\n",
    "|-------------|---------------------------------------------------|-------------------------------|\n",
    "| len()       | 리스트의 길이(요소 개수) 반환                      | `len(a)`                      |\n",
    "| max()       | 리스트에서 최댓값 반환                             | `max(a)`                      |\n",
    "| min()       | 리스트에서 최솟값 반환                             | `min(a)`                      |\n",
    "| sum()       | 리스트 요소의 합 반환                              | `sum(a)`                      |\n",
    "| list()      | 다른 반복가능 객체를 리스트로 변환                 | `list('abc')`                 |\n",
    "| sorted()    | 정렬된 새로운 리스트 반환(원본은 변경 안됨)         | `sorted(a)`                   |\n",
    "| reversed()  | 역순 반복자를 반환(리스트로 변환하려면 list 필요)   | `list(reversed(a))`           |\n",
    "| type()      | 객체의 타입 반환                                   | `type(a)`                     |"
   ]
  },
  {
   "cell_type": "code",
   "execution_count": 52,
   "id": "9fcbc17b",
   "metadata": {},
   "outputs": [],
   "source": [
    "# 리스트 생성\n",
    "a = [1, 2, 3]\n",
    "\n",
    "# append: 끝에 요소 추가\n",
    "a.append(4)          # [1, 2, 3, 4]\n",
    "\n",
    "# extend: 여러 요소 추가\n",
    "a.extend([5, 6])     # [1, 2, 3, 4, 5, 6]\n",
    "\n",
    "# insert: 특정 위치에 요소 삽입\n",
    "a.insert(1, 100)     # [1, 100, 2, 3, 4, 5, 6]\n",
    "\n",
    "# remove: 첫 번째로 나오는 값 삭제\n",
    "a.remove(100)        # [1, 2, 3, 4, 5, 6]\n",
    "\n",
    "# pop: 마지막 요소 꺼내기\n",
    "last = a.pop()       # last = 6, a = [1, 2, 3, 4, 5]\n",
    "\n",
    "# pop: 특정 위치 요소 꺼내기\n",
    "second = a.pop(1)    # second = 2, a = [1, 3, 4, 5]\n",
    "\n",
    "# clear: 모든 요소 삭제\n",
    "a.clear()            # a = []\n",
    "\n",
    "# index: 값의 인덱스 찾기\n",
    "b = [10, 20, 30, 20]\n",
    "idx = b.index(20)    # idx = 1\n",
    "\n",
    "# count: 값의 개수 세기\n",
    "cnt = b.count(20)    # cnt = 2\n",
    "\n",
    "# sort: 정렬\n",
    "b.sort()             # b = [10, 20, 20, 30]\n",
    "\n",
    "# reverse: 뒤집기\n",
    "b.reverse()          # b = [30, 20, 20, 10]\n",
    "\n",
    "# copy: 복사\n",
    "c = b.copy()         # c = [30, 20, 20, 10]\n",
    "\n",
    "# len: 길이 구하기\n",
    "length = len(c)      # length = 4\n",
    "\n",
    "# max, min, sum\n",
    "max_val = max(c)     # max_val = 30\n",
    "min_val = min(c)     # min_val = 10\n",
    "total = sum(c)       # total = 80\n",
    "\n",
    "# list: 다른 객체를 리스트로 변환\n",
    "chars = list('abc')  # chars = ['a', 'b', 'c']\n",
    "\n",
    "# sorted: 정렬된 새 리스트 반환\n",
    "sorted_c = sorted(c) # sorted_c = [10, 20, 20, 30]\n",
    "\n",
    "# reversed: 역순 반복자 -> 리스트로 변환\n",
    "rev_c = list(reversed(c)) # rev_c = [10, 20, 20, 30]\n",
    "\n",
    "# type: 타입 확인\n",
    "t = type(c)          # t = <class 'list'>\n"
   ]
  },
  {
   "cell_type": "markdown",
   "id": "0af057d6",
   "metadata": {},
   "source": [
    "##### 리스트 실습 문제\n",
    "1. 아래 표를 리스트로 만드세요  \n",
    "\n",
    "    | 순번   | 값 |\n",
    "    |--------|-----|\n",
    "    | 1 | 20 |\n",
    "    | 2 | 40 |\n",
    "    | 3 | 10 |\n",
    "    | 4 | 30 |\n",
    "    | 5 | 50 |"
   ]
  },
  {
   "cell_type": "code",
   "execution_count": null,
   "id": "0329b17f",
   "metadata": {},
   "outputs": [],
   "source": []
  },
  {
   "cell_type": "markdown",
   "id": "afbc5b0c",
   "metadata": {},
   "source": [
    "2. 위 리스트에 아래 데이터를 추가하고 해당 딕셔너리 전체를 출력해주세요\n",
    "\n",
    "    | 순번   | 값 |\n",
    "    |--------|-----|\n",
    "    | 6 | 60 |"
   ]
  },
  {
   "cell_type": "code",
   "execution_count": null,
   "id": "1fad824a",
   "metadata": {},
   "outputs": [],
   "source": []
  },
  {
   "cell_type": "markdown",
   "id": "2de14a6d",
   "metadata": {},
   "source": [
    "3. 리스트의 첫 번째 값과 마지막 값을 출력하세요."
   ]
  },
  {
   "cell_type": "code",
   "execution_count": null,
   "id": "bd41778e",
   "metadata": {},
   "outputs": [],
   "source": []
  },
  {
   "cell_type": "markdown",
   "id": "6b201cd9",
   "metadata": {},
   "source": [
    "4. 리스트를 정렬하고 출력하세요"
   ]
  },
  {
   "cell_type": "code",
   "execution_count": null,
   "id": "a971c2e7",
   "metadata": {},
   "outputs": [],
   "source": []
  },
  {
   "cell_type": "markdown",
   "id": "d18fdd1c",
   "metadata": {},
   "source": [
    "### 튜플 (Tuple)\n",
    "\n",
    "- **정의**: 여러 개의 값을 순서대로 저장하지만, 한 번 생성하면 변경할 수 없는 자료형  \n",
    "- **기호**: 소괄호 `( )` 사용  \n",
    "- **특징**:\n",
    "  - 순서(인덱스)가 존재하여, 요소의 위치를 지정해 접근 가능\n",
    "  - 요소의 추가, 수정, 삭제가 불가능 (immutable)\n",
    "  - 중복된 값 저장 가능  \n",
    "- **예시**:\n",
    "  ```python\n",
    "  person = ('John', 25, 'USA')\n",
    "  point = (10, 20)\n",
    "  ```\n",
    "- **용도**: 데이터의 변경이 필요 없고, 안전하게 보호해야 할 때 사용  "
   ]
  },
  {
   "cell_type": "code",
   "execution_count": null,
   "id": "1a7151c5",
   "metadata": {},
   "outputs": [],
   "source": [
    "# 빈 튜플 생성(무의미)\n",
    "tupleData = tuple()\n",
    "\n",
    "# 튜플 생성과 동시에 값 할당\n",
    "# 변수 = (value1,value2,value3,...,valueN)\n",
    "tupleData = (2,0,2,5,0,5,2,9,1,9,2,0,0)\n",
    "\n",
    "tupleData = (0,0,0,0,1,1,1,1)\n",
    "print(tupleData)\n",
    "tupleData[2] = 4\n",
    "print(tupleData)"
   ]
  },
  {
   "cell_type": "markdown",
   "id": "01c387f6",
   "metadata": {},
   "source": [
    "**튜플 메소드 (tuple methods)**\n",
    "\n",
    "| 메소드      | 설명                                              | 사용 예시                      |\n",
    "|-------------|---------------------------------------------------|-------------------------------|\n",
    "| count()     | 특정 값이 튜플 내에 몇 번 등장하는지 반환           | `t.count(2)`                  |\n",
    "| index()     | 특정 값이 처음 등장하는 인덱스 반환                 | `t.index(3)`                  |\n",
    "\n",
    "\n",
    "**튜플 관련 주요 내장 함수 (tuple-related built-in functions)**\n",
    "\n",
    "| 함수        | 설명                                              | 사용 예시                      |\n",
    "|-------------|---------------------------------------------------|-------------------------------|\n",
    "| len()       | 튜플의 길이(요소 개수) 반환                        | `len(t)`                      |\n",
    "| max()       | 튜플에서 최댓값 반환                               | `max(t)`                      |\n",
    "| min()       | 튜플에서 최솟값 반환                               | `min(t)`                      |\n",
    "| sum()       | 튜플 요소의 합 반환(모두 숫자일 때)                | `sum(t)`                      |\n",
    "| any()       | 하나 이상의 요소가 참(Truthy)이면 True 반환         | `any(t)`                      |\n",
    "| all()       | 모든 요소가 참(Truthy)이면 True 반환               | `all(t)`                      |\n",
    "| sorted()    | 정렬된 리스트로 반환(튜플은 불변이므로 리스트 반환) | `sorted(t)`                   |\n",
    "| tuple()     | 반복가능 객체를 튜플로 변환                        | `tuple([1][2][3])`              |\n",
    "| type()      | 객체의 타입 반환                                   | `type(t)`                     |"
   ]
  },
  {
   "cell_type": "code",
   "execution_count": null,
   "id": "09821da4",
   "metadata": {},
   "outputs": [],
   "source": [
    "# 튜플 생성\n",
    "t = (1, 2, 3, 2, 4, 2)\n",
    "\n",
    "# count: 특정 값의 개수 반환\n",
    "cnt = t.count(2)         # cnt = 3\n",
    "\n",
    "# index: 특정 값의 첫 인덱스 반환\n",
    "idx = t.index(3)         # idx = 2\n",
    "\n",
    "# len: 길이 구하기\n",
    "length = len(t)          # length = 6\n",
    "\n",
    "# max, min, sum\n",
    "max_val = max(t)         # max_val = 4\n",
    "min_val = min(t)         # min_val = 1\n",
    "total = sum(t)           # total = 14\n",
    "\n",
    "# any, all\n",
    "t1 = (0, 0, 0)\n",
    "t2 = (1, 2, 3)\n",
    "any_t1 = any(t1)         # any_t1 = False\n",
    "all_t2 = all(t2)         # all_t2 = True\n",
    "\n",
    "# sorted: 정렬된 리스트 반환\n",
    "sorted_t = sorted(t)     # sorted_t = [1, 2, 2, 2, 3, 4]\n",
    "\n",
    "# tuple: 반복가능 객체를 튜플로 변환\n",
    "lst = [5, 6, 7]\n",
    "t3 = tuple(lst)          # t3 = (5, 6, 7)\n",
    "\n",
    "# type: 타입 확인\n",
    "t_type = type(t)         # t_type = "
   ]
  },
  {
   "cell_type": "markdown",
   "id": "b876ab8c",
   "metadata": {},
   "source": [
    "##### 튜플 실습 문제\n",
    "1. 아래 표를 튜플로 만드세요  \n",
    "\n",
    "    | 순번   | 값 |\n",
    "    |--------|-----|\n",
    "    | 1 | 200 |\n",
    "    | 2 | 40 |\n",
    "    | 3 | 30 |\n",
    "    | 4 | 90 |\n",
    "    | 5 | 50 |"
   ]
  },
  {
   "cell_type": "code",
   "execution_count": null,
   "id": "77e65aa1",
   "metadata": {},
   "outputs": [],
   "source": []
  },
  {
   "cell_type": "markdown",
   "id": "c5bf0afc",
   "metadata": {},
   "source": [
    "2. 위 튜플에서 순번 2 ~ 4번을 뽑아서 출력하세요"
   ]
  },
  {
   "cell_type": "code",
   "execution_count": null,
   "id": "65f25afd",
   "metadata": {},
   "outputs": [],
   "source": []
  },
  {
   "cell_type": "markdown",
   "id": "cc0c7805",
   "metadata": {},
   "source": [
    "3. 튜플 내의 요소 갯수를 출력하세요"
   ]
  },
  {
   "cell_type": "code",
   "execution_count": null,
   "id": "57abc62b",
   "metadata": {},
   "outputs": [],
   "source": []
  },
  {
   "cell_type": "markdown",
   "id": "cc861734",
   "metadata": {},
   "source": [
    "4. 튜플 내의 요소 중 최대값을 출력하세요"
   ]
  },
  {
   "cell_type": "code",
   "execution_count": null,
   "id": "c62bc7db",
   "metadata": {},
   "outputs": [],
   "source": []
  },
  {
   "cell_type": "markdown",
   "id": "fc97f263",
   "metadata": {},
   "source": [
    "5. range를 이용하여 1부터 10까지의 짝수만 저장된 튜플을 만드세요"
   ]
  },
  {
   "cell_type": "code",
   "execution_count": null,
   "id": "d4286545",
   "metadata": {},
   "outputs": [],
   "source": []
  },
  {
   "cell_type": "markdown",
   "id": "f0a0a28e",
   "metadata": {},
   "source": [
    "### 딕셔너리 (Dictionary)\n",
    "\n",
    "- **정의**: 키(key)와 값(value)의 쌍으로 데이터를 저장하는 자료형  \n",
    "- **기호**: 중괄호 `{ }` 사용, 각 쌍은 콜론 `:`으로 구분  \n",
    "- **특징**:\n",
    "  - 순서가 없으며, 인덱스 대신 키로 값에 접근\n",
    "  - 요소의 추가, 수정, 삭제가 가능 (mutable)\n",
    "  - 키는 중복될 수 없지만, 값은 중복 가능  \n",
    "- **예시**:\n",
    "  ```python\n",
    "  person = {'name': 'John', 'age': 25, 'country': 'USA'}\n",
    "  point = {'x': 10, 'y': 20}\n",
    "  ```\n",
    "- **용도**: 키를 통해 데이터를 빠르게 검색하거나, 구조적으로 데이터를 저장할 때 사용  "
   ]
  },
  {
   "cell_type": "code",
   "execution_count": null,
   "id": "73aa3031",
   "metadata": {},
   "outputs": [],
   "source": [
    "# 빈 딕셔너리 생성\n",
    "dictData = dict()\n",
    "\n",
    "# 딕셔너리 생성과 동시에 값 할당\n",
    "# 변수 = {key1:value1,key2:value2,...,key3:valueN}\n",
    "dictData = {\"year\":2025,\"month\":5,\"day\":29,\"hour\":19,\"min\":20,\"sec\":0}\n",
    "\n",
    "dictData = {\"year\":2025,\"month\":5,\"day\":29,\"hour\":19,\"min\":20,\"sec\":0}\n",
    "print(dictData)\n",
    "dictData[\"year\"] = 2035\n",
    "print(dictData)"
   ]
  },
  {
   "cell_type": "markdown",
   "id": "69e4539a",
   "metadata": {},
   "source": [
    "**딕셔너리 메소드 (dictionary methods)**\n",
    "\n",
    "| 메소드         | 설명                                              | 사용 예시                          |\n",
    "|----------------|---------------------------------------------------|------------------------------------|\n",
    "| keys()         | 모든 키를 반환                                     | `d.keys()`                         |\n",
    "| values()       | 모든 값을 반환                                     | `d.values()`                       |\n",
    "| items()        | (키, 값) 쌍을 반환                                | `d.items()`                        |\n",
    "| get()          | 키의 값을 반환(없으면 None 또는 기본값 반환)        | `d.get('key')`, `d.get('k', 0)`    |\n",
    "| update()       | 다른 딕셔너리/키-값 쌍으로 값 추가 또는 수정        | `d.update({'a': 1})`               |\n",
    "| pop()          | 지정한 키의 값을 반환하고 삭제                     | `d.pop('key')`                     |\n",
    "| popitem()      | 임의의 (키, 값) 쌍을 반환하고 삭제                 | `d.popitem()`                      |\n",
    "| clear()        | 모든 요소 삭제                                     | `d.clear()`                        |\n",
    "| copy()         | 얕은 복사본 반환                                  | `d2 = d.copy()`                    |\n",
    "| setdefault()   | 키가 없으면 값을 추가하고, 있으면 기존 값 반환      | `d.setdefault('key', 0)`           |\n",
    "| fromkeys()     | 키 시퀀스와 값을 받아 새 딕셔너리 생성(클래스 메소드)| `dict.fromkeys(['a', 'b'], 0)`     |\n",
    "\n",
    "\n",
    "**딕셔너리 관련 주요 내장 함수 (dictionary-related built-in functions)**\n",
    "\n",
    "| 함수         | 설명                                              | 사용 예시                      |\n",
    "|--------------|---------------------------------------------------|-------------------------------|\n",
    "| len()        | 딕셔너리의 키 개수 반환                            | `len(d)`                      |\n",
    "| dict()       | 딕셔너리 생성자                                   | `dict(a=1, b=2)`              |\n",
    "| type()       | 객체의 타입 반환                                   | `type(d)`                     |\n",
    "| in           | 특정 키의 존재 여부 확인                            | `'key' in d`                  |\n"
   ]
  },
  {
   "cell_type": "code",
   "execution_count": null,
   "id": "55241ddd",
   "metadata": {},
   "outputs": [],
   "source": [
    "# 딕셔너리 생성\n",
    "d = {'name': 'Alice', 'age': 25, 'city': 'Seoul'}\n",
    "\n",
    "# keys: 모든 키 반환\n",
    "keys = d.keys()               # dict_keys(['name', 'age', 'city'])\n",
    "\n",
    "# values: 모든 값 반환\n",
    "values = d.values()           # dict_values(['Alice', 25, 'Seoul'])\n",
    "\n",
    "# items: (키, 값) 쌍 반환\n",
    "items = d.items()             # dict_items([('name', 'Alice'), ('age', 25), ('city', 'Seoul')])\n",
    "\n",
    "# get: 키의 값 반환 (없으면 None 또는 기본값)\n",
    "age = d.get('age')            # 25\n",
    "nickname = d.get('nickname')  # None\n",
    "nickname2 = d.get('nickname', 'Unknown')  # 'Unknown'\n",
    "\n",
    "# update: 값 추가 또는 수정\n",
    "d.update({'age': 30, 'country': 'Korea'}) # {'name': 'Alice', 'age': 30, 'city': 'Seoul', 'country': 'Korea'}\n",
    "\n",
    "# pop: 특정 키의 값을 반환하고 삭제\n",
    "city = d.pop('city')          # 'Seoul', d에서 'city' 항목 삭제\n",
    "\n",
    "# popitem: 임의의 (키, 값) 쌍 반환 및 삭제\n",
    "item = d.popitem()            # 예: ('country', 'Korea')\n",
    "\n",
    "# clear: 모든 요소 삭제\n",
    "d.clear()                     # d = {}\n",
    "\n",
    "# copy: 얕은 복사본 생성\n",
    "d2 = {'a': 1, 'b': 2}\n",
    "d3 = d2.copy()                # d3 = {'a': 1, 'b': 2}\n",
    "\n",
    "# setdefault: 키가 없으면 값을 추가, 있으면 기존 값 반환\n",
    "d2.setdefault('c', 3)         # d2 = {'a': 1, 'b': 2, 'c': 3}\n",
    "\n",
    "# fromkeys: 키 시퀀스와 값을 받아 새 딕셔너리 생성\n",
    "keys = ['x', 'y', 'z']\n",
    "new_dict = dict.fromkeys(keys, 0)  # {'x': 0, 'y': 0, 'z': 0}\n",
    "\n",
    "# len: 딕셔너리의 키 개수\n",
    "length = len(d2)              # 3\n",
    "\n",
    "# dict: 딕셔너리 생성자\n",
    "d4 = dict(name='Bob', age=28) # {'name': 'Bob', 'age': 28}\n",
    "\n",
    "# type: 타입 확인\n",
    "t = type(d4)                  # \n",
    "\n",
    "# in: 특정 키의 존재 여부 확인\n",
    "exists = 'name' in d4         # True\n",
    "not_exists = 'address' in d4  # False"
   ]
  },
  {
   "cell_type": "markdown",
   "id": "305fcf3a",
   "metadata": {},
   "source": [
    "##### 딕셔너리 실습 문제\n",
    "\n",
    "1. 아래 표를 딕셔너리로 만들고, 딕셔너리 이름은 `icecream`로 하세요.  \n",
    "\n",
    "    | 이름   | 가격 |\n",
    "    |--------|-----|\n",
    "    | 메로나 | 300 |\n",
    "    | 비비빅 | 400 |\n",
    "    | 죠스바 | 250 |"
   ]
  },
  {
   "cell_type": "code",
   "execution_count": null,
   "id": "fc7cd231",
   "metadata": {},
   "outputs": [],
   "source": []
  },
  {
   "cell_type": "markdown",
   "id": "caceefe6",
   "metadata": {},
   "source": [
    "2. '메로나'의 가격을 출력하세요."
   ]
  },
  {
   "cell_type": "code",
   "execution_count": null,
   "id": "5fdd959a",
   "metadata": {},
   "outputs": [],
   "source": []
  },
  {
   "cell_type": "markdown",
   "id": "7b8ddbb6",
   "metadata": {},
   "source": [
    "3. 딕셔너리 값 추가  \n",
    "위 딕셔너리에 아래 데이터를 추가하고 해당 딕셔너리 전체를 출력해주세요\n",
    "\n",
    "    | 이름   | 가격 |\n",
    "    |--------|-----|\n",
    "    | 월드콘 | 500 |"
   ]
  },
  {
   "cell_type": "code",
   "execution_count": null,
   "id": "d783584d",
   "metadata": {},
   "outputs": [],
   "source": []
  },
  {
   "cell_type": "markdown",
   "id": "9557df5b",
   "metadata": {},
   "source": [
    "4. 딕셔너리 값의 합계\n",
    "위 icecream 딕셔너리에서 모든 아이스크림의 가격 합계를 출력하세요."
   ]
  },
  {
   "cell_type": "code",
   "execution_count": null,
   "id": "351bd7d0",
   "metadata": {},
   "outputs": [],
   "source": []
  },
  {
   "cell_type": "markdown",
   "id": "00e697cd",
   "metadata": {},
   "source": [
    "### 집합 (Set)\n",
    "\n",
    "- **정의**: 중복을 허용하지 않는, 순서가 없는 자료형  \n",
    "- **기호**: 중괄호 `{ }` 사용  \n",
    "- **특징**:\n",
    "  - 순서가 없어 인덱스로 접근 불가\n",
    "  - 중복된 값 저장 불가\n",
    "  - 요소의 추가, 삭제는 가능 (mutable)\n",
    "  - 집합 연산(합집합, 교집합, 차집합 등) 지원  \n",
    "- **예시**:\n",
    "  ```python\n",
    "  fruits = {'apple', 'banana', 'orange'}\n",
    "  numbers = {1, 2, 3, 4, 5}\n",
    "  ```\n",
    "- **용도**: 중복 제거, 집합 연산이 필요한 경우 사용"
   ]
  },
  {
   "cell_type": "code",
   "execution_count": null,
   "id": "07a7f8d8",
   "metadata": {},
   "outputs": [],
   "source": [
    "# 빈 집합 생성\n",
    "setData = set()\n",
    "\n",
    "# 집합 생성과 동시에 값 할당\n",
    "# 변수 = {value1,value2,value3,...,valueN}\n",
    "setData = {2,0,2,5,0,5,2,9,1,9,2,0}\n",
    "print(setData)"
   ]
  },
  {
   "cell_type": "markdown",
   "id": "87281db1",
   "metadata": {},
   "source": [
    "\n",
    " **주요 집합 연산자**\n",
    "\n",
    "| 연산자 | 연산 이름         | 설명                                         | 예시 코드                                   |\n",
    "|--------|------------------|----------------------------------------------|---------------------------------------------|\n",
    "| `\\|`    | 합집합(Union)    | 두 집합의 모든 원소(중복 없이)                | `a \\| b` 또는 `a.union(b)`                    |\n",
    "| `&`    | 교집합(Intersection) | 두 집합 모두에 있는 원소만                  | `a & b` 또는 `a.intersection(b)`            |\n",
    "| `-`    | 차집합(Difference)  | 왼쪽 집합에만 있는 원소                      | `a - b` 또는 `a.difference(b)`              |\n",
    "| `^`    | 대칭 차집합(Symmetric Difference) | 두 집합 중 한쪽에만 있는 원소(겹치지 않는 것) | `a ^ b` 또는 `a.symmetric_difference(b)`    |\n",
    "\n",
    "\n",
    "**집합 메소드 (set methods)**\n",
    "\n",
    "| 메소드                   | 설명                                                      | 사용 예시                                 |\n",
    "|--------------------------|-----------------------------------------------------------|-------------------------------------------|\n",
    "| add()                    | 집합에 단일 요소 추가                                     | `s.add(3)`                               |\n",
    "| update()                 | 집합에 여러 요소 추가                                     | `s.update([4,[5])`                        |\n",
    "| remove()                 | 특정 요소 제거 (없으면 에러)                              | `s.remove(2)`                            |\n",
    "| discard()                | 특정 요소 제거 (없어도 에러 없음)                         | `s.discard(2)`                           |\n",
    "| pop()                    | 임의의 요소 반환 및 삭제                                  | `s.pop()`                                |\n",
    "| clear()                  | 모든 요소 삭제                                            | `s.clear()`                              |\n",
    "| copy()                   | 얕은 복사본 반환                                         | `s2 = s.copy()`                          |\n",
    "| union()                  | 합집합 반환                                               | `s1.union(s2)`                           |\n",
    "| intersection()           | 교집합 반환                                               | `s1.intersection(s2)`                    |\n",
    "| difference()             | 차집합 반환                                               | `s1.difference(s2)`                      |\n",
    "| symmetric_difference()   | 대칭 차집합 반환                                          | `s1.symmetric_difference(s2)`            |\n",
    "| issubset()               | 부분집합 여부 반환                                        | `s1.issubset(s2)`                        |\n",
    "| issuperset()             | 상위집합(포함집합) 여부 반환                             | `s1.issuperset(s2)`                      |\n",
    "| isdisjoint()             | 두 집합이 서로소(교집합 없음)인지 여부 반환               | `s1.isdisjoint(s2)`                      |\n",
    "\n",
    "**집합 관련 주요 내장 함수 (set-related built-in functions)**\n",
    "\n",
    "| 함수        | 설명                                              | 사용 예시                      |\n",
    "|-------------|---------------------------------------------------|-------------------------------|\n",
    "| len()       | 집합의 원소 개수 반환                              | `len(s)`                      |\n",
    "| set()       | 반복가능 객체를 집합으로 변환                      | `set([1][2][3])`                |\n",
    "| type()      | 객체의 타입 반환                                   | `type(s)`                     |\n",
    "| in          | 특정 요소의 포함 여부 확인                         | `3 in s`                      |\n"
   ]
  },
  {
   "cell_type": "code",
   "execution_count": 54,
   "id": "657a89b5",
   "metadata": {},
   "outputs": [],
   "source": [
    "# 집합 생성\n",
    "s = {1, 2, 3}\n",
    "s2 = set([3, 4, 5])\n",
    "\n",
    "# add: 단일 요소 추가\n",
    "s.add(4)                 # s = {1, 2, 3, 4}\n",
    "\n",
    "# update: 여러 요소 추가\n",
    "s.update([5, 6])         # s = {1, 2, 3, 4, 5, 6}\n",
    "\n",
    "# remove: 특정 요소 제거 (없으면 에러)\n",
    "s.remove(6)              # s = {1, 2, 3, 4, 5}\n",
    "\n",
    "# discard: 특정 요소 제거 (없어도 에러 없음)\n",
    "s.discard(100)           # s = {1, 2, 3, 4, 5}\n",
    "\n",
    "# pop: 임의의 요소 반환 및 삭제\n",
    "elem = s.pop()           # elem = 1 (임의의 값), s에서 해당 값 삭제\n",
    "\n",
    "# clear: 모든 요소 삭제\n",
    "s.clear()                # s = set()\n",
    "\n",
    "# copy: 얕은 복사본 반환\n",
    "s3 = s2.copy()           # s3 = {3, 4, 5}\n",
    "\n",
    "# union: 합집합 반환\n",
    "a = {1, 2, 3}\n",
    "b = {3, 4, 5}\n",
    "union_ab = a.union(b)    # union_ab = {1, 2, 3, 4, 5}\n",
    "\n",
    "# intersection: 교집합 반환\n",
    "inter_ab = a.intersection(b)  # inter_ab = {3}\n",
    "\n",
    "# difference: 차집합 반환\n",
    "diff_ab = a.difference(b)     # diff_ab = {1, 2}\n",
    "\n",
    "# symmetric_difference: 대칭 차집합 반환\n",
    "sym_diff = a.symmetric_difference(b)  # sym_diff = {1, 2, 4, 5}\n",
    "\n",
    "# issubset: 부분집합 여부\n",
    "subset = {1, 2}\n",
    "is_sub = subset.issubset(a)   # is_sub = True\n",
    "\n",
    "# issuperset: 상위집합 여부\n",
    "is_super = a.issuperset(subset) # is_super = True\n",
    "\n",
    "# isdisjoint: 서로소 여부\n",
    "c = {7, 8}\n",
    "is_disjoint = a.isdisjoint(c) # is_disjoint = True\n",
    "\n",
    "# len: 집합의 원소 개수\n",
    "length = len(a)               # length = 3\n",
    "\n",
    "# set: 다른 반복가능 객체를 집합으로 변환\n",
    "s4 = set('hello')             # s4 = {'h', 'e', 'l', 'o'}\n",
    "\n",
    "# type: 타입 확인\n",
    "t = type(a)                   # t = \n",
    "\n",
    "# in: 특정 원소 포함 여부\n",
    "exists = 2 in a               # exists = True\n",
    "not_exists = 10 in a          # not_exists = False"
   ]
  },
  {
   "cell_type": "markdown",
   "id": "bebda154",
   "metadata": {},
   "source": [
    "##### 집합 실습 문제\n",
    "\n",
    "1. 아래 리스트에서 중복을 제거하여 출력하세요\n",
    "    ```python\n",
    "    setData = [1, 2, 2, 3, 4, 4, 5, 5, 5]\n",
    "    ```"
   ]
  },
  {
   "cell_type": "code",
   "execution_count": null,
   "id": "8f57198e",
   "metadata": {},
   "outputs": [
    {
     "name": "stdout",
     "output_type": "stream",
     "text": [
      "{1, 2, 3, 4, 5}\n"
     ]
    }
   ],
   "source": []
  },
  {
   "cell_type": "markdown",
   "id": "f63a684a",
   "metadata": {},
   "source": [
    "2. 아래 표를 집합으로 만드세요  \n",
    "\n",
    "    a 집합\n",
    "    | 순번   | 값 |\n",
    "    |--------|-----|\n",
    "    | 1 | 1 |\n",
    "    | 2 | 2 |\n",
    "    | 3 | 3 |\n",
    "    | 4 | 4 |\n",
    "\n",
    "    b 집합\n",
    "    | 순번   | 값 |\n",
    "    |--------|-----|\n",
    "    | 1 | 3 |\n",
    "    | 2 | 4 |\n",
    "    | 3 | 5 |\n",
    "    | 4 | 6 |"
   ]
  },
  {
   "cell_type": "code",
   "execution_count": null,
   "id": "756605ad",
   "metadata": {},
   "outputs": [],
   "source": []
  },
  {
   "cell_type": "markdown",
   "id": "75eb8b65",
   "metadata": {},
   "source": [
    "3. a와 b집합의 합집합을 구하세요"
   ]
  },
  {
   "cell_type": "code",
   "execution_count": null,
   "id": "7604b12c",
   "metadata": {},
   "outputs": [],
   "source": []
  },
  {
   "cell_type": "markdown",
   "id": "2702c2d1",
   "metadata": {},
   "source": [
    "4. a와 b집합의 교집합을 구하세요"
   ]
  },
  {
   "cell_type": "code",
   "execution_count": null,
   "id": "8982f93a",
   "metadata": {},
   "outputs": [],
   "source": []
  },
  {
   "cell_type": "markdown",
   "id": "bd158ea0",
   "metadata": {},
   "source": [
    "5. 반 1의 학생 A, B, C가 각각 선택한 과목이 아래과 같을 때, 질문에 대한 답 출력하세요\n",
    "\n",
    "    - 세 학생 모두가 선택한 과목\n",
    "\n",
    "    - 적어도 한 명이라도 선택한 과목\n",
    "\n",
    "    - A만 선택한 과목\n",
    "\n",
    "    - 아무도 선택하지 않은 과목(전체 과목 집합에서)\n",
    "\n",
    "    ```python\n",
    "    all_subjects = {\"국어\", \"영어\", \"수학\", \"과학\", \"사회\", \"음악\"}\n",
    "    A = {\"국어\", \"영어\", \"수학\"}\n",
    "    B = {\"영어\", \"수학\", \"과학\"}\n",
    "    C = {\"수학\", \"음악\", \"영어\"}\n",
    "    ```"
   ]
  },
  {
   "cell_type": "code",
   "execution_count": null,
   "id": "dec1be6f",
   "metadata": {},
   "outputs": [],
   "source": [
    "all_subjects = {\"국어\", \"영어\", \"수학\", \"과학\", \"사회\", \"음악\"}\n",
    "A = {\"국어\", \"영어\", \"수학\"}\n",
    "B = {\"영어\", \"수학\", \"과학\"}\n",
    "C = {\"수학\", \"음악\", \"영어\"}\n",
    "\n",
    "# 세 학생 모두가 선택한 과목\n",
    "\n",
    "\n",
    "# 적어도 한 명이라도 선택한 과목\n",
    "\n",
    "\n",
    "# A만 선택한 과목\n",
    "\n",
    "\n",
    "# 아무도 선택하지 않은 과목\n"
   ]
  }
 ],
 "metadata": {
  "kernelspec": {
   "display_name": "base",
   "language": "python",
   "name": "python3"
  },
  "language_info": {
   "codemirror_mode": {
    "name": "ipython",
    "version": 3
   },
   "file_extension": ".py",
   "mimetype": "text/x-python",
   "name": "python",
   "nbconvert_exporter": "python",
   "pygments_lexer": "ipython3",
   "version": "3.12.7"
  }
 },
 "nbformat": 4,
 "nbformat_minor": 5
}
